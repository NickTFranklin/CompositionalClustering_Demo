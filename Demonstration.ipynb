{
 "cells": [
  {
   "cell_type": "code",
   "execution_count": 1,
   "metadata": {
    "collapsed": false
   },
   "outputs": [],
   "source": [
    "%matplotlib inline\n",
    "import copy\n",
    "import pandas as pd\n",
    "import numpy as np\n",
    "import pandas as pd\n",
    "import seaborn as sns\n",
    "import matplotlib.pyplot as plt\n",
    "\n",
    "from GridWorld import Task\n",
    "from Agents import Task, TaskSetAgent, IndependentClusterAgent\n",
    "from utils import randomize_order"
   ]
  },
  {
   "cell_type": "code",
   "execution_count": 2,
   "metadata": {
    "collapsed": true
   },
   "outputs": [],
   "source": [
    "# define all of the task parameters here\n",
    "gridworld_size = (6, 6)\n",
    "\n",
    "map_0 = {0: u'left', 1: u'up', 2: u'down', 3: u'right'}\n",
    "map_1 = {4: u'up', 5: u'left', 6: u'right', 7: u'down'}\n",
    "\n",
    "goal_0 = (0, 0)\n",
    "goal_1 = (0, 5)\n",
    "goal_2 = (5, 0)\n",
    "goal_3 = (5, 5)\n",
    "\n",
    "start_locations = [(2, 2), (2, 3), (3, 2), (3, 3)]\n",
    "\n",
    "context_goals = [goal_0, goal_1, goal_2, goal_3, goal_0, goal_3]\n",
    "context_maps = [map_0, map_0, map_0, map_0, map_1, map_1]\n",
    "context_balance = [2, 2, 6, 6, 4, 4]\n",
    "\n",
    "hazard_rates = [0.5, 0.67, 0.75, 0.75, 1.0, 1.0, 1.0, 1.0, 1.0, 1.0, 1.0, 1.0]\n",
    "\n",
    "list_goal_priors = [(0, 0), (0, 5), (5, 0), (5, 5)]"
   ]
  },
  {
   "cell_type": "code",
   "execution_count": null,
   "metadata": {
    "collapsed": true
   },
   "outputs": [],
   "source": [
    "\n",
    "def make_task():\n",
    "    list_context = list()\n",
    "    list_start_locations = list()\n",
    "    list_goals = list()\n",
    "    list_maps = list()\n",
    "    for ctx, n_reps in enumerate(context_balance):\n",
    "        list_context += [ctx] * n_reps\n",
    "        list_start_locations += [start_locations[np.random.randint(4)] for _ in range(n_reps)]\n",
    "        list_goals += [context_goals[ctx] for _ in range(n_reps)]\n",
    "        list_maps += [context_maps[ctx] for _ in range(n_reps)]\n",
    "\n",
    "    order = randomize_order(context_balance, hazard_rates)\n",
    "\n",
    "    list_start_locations = [list_start_locations[idx] for idx in order]\n",
    "    list_context = [list_context[idx] for idx in order]\n",
    "    list_goals = [list_goals[idx] for idx in order]\n",
    "    list_maps = [list_maps[idx] for idx in order]\n",
    "    list_walls = [[]] * len(order)\n",
    "\n",
    "    args = [list_start_locations, list_goals, list_context, list_maps]\n",
    "    kwargs = dict(list_walls=list_walls, grid_world_size=(6, 6))\n",
    "    return Task(*args, **kwargs)\n",
    "\n",
    "\n",
    "def simulate(agent_class, simulation_number, agent_kwargs=None):\n",
    "    task = make_task()\n",
    "    if agent_kwargs is not None:\n",
    "        agent = agent_class(task, **agent_kwargs)\n",
    "    else:\n",
    "        agent = agent_class(task)\n",
    "    agent.set_reward_prior(list_goal_priors)\n",
    "\n",
    "    results = agent.generate()\n",
    "    results['Simulation Number'] = [simulation_number] * len(results)\n",
    "    results['Cumulative Steps Taken'] = results['n actions taken'].cumsum()\n",
    "\n",
    "    return results"
   ]
  },
  {
   "cell_type": "code",
   "execution_count": null,
   "metadata": {
    "collapsed": false
   },
   "outputs": [],
   "source": [
    "n_sim = 10\n",
    "\n",
    "resultsTS = pd.concat([simulate(TaskSetAgent, ii) for ii in range(n_sim)])\n",
    "resultsIC = pd.concat([simulate(IndependentClusterAgent, ii) for ii in range(n_sim)])\n",
    "resultsTS['Model'] = ['Task Set'] * len(resultsTS)\n",
    "resultsIC['Model'] = ['Independent Clustering'] * len(resultsIC)\n",
    "results = pd.concat([resultsTS, resultsIC])"
   ]
  },
  {
   "cell_type": "code",
   "execution_count": null,
   "metadata": {
    "collapsed": false
   },
   "outputs": [],
   "source": [
    "kwargs = dict(\n",
    "    time='TrialNumber',\n",
    "    value='Cumulative Steps Taken',\n",
    "    data=results[results['In goal']], \n",
    "    unit='Simulation Number',\n",
    "    condition='Model'\n",
    ")\n",
    "sns.tsplot(**kwargs)"
   ]
  },
  {
   "cell_type": "code",
   "execution_count": null,
   "metadata": {
    "collapsed": true
   },
   "outputs": [],
   "source": []
  }
 ],
 "metadata": {
  "kernelspec": {
   "display_name": "Python 2",
   "language": "python",
   "name": "python2"
  },
  "language_info": {
   "codemirror_mode": {
    "name": "ipython",
    "version": 2
   },
   "file_extension": ".py",
   "mimetype": "text/x-python",
   "name": "python",
   "nbconvert_exporter": "python",
   "pygments_lexer": "ipython2",
   "version": "2.7.11"
  }
 },
 "nbformat": 4,
 "nbformat_minor": 0
}
