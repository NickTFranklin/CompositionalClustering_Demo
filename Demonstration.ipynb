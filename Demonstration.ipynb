{
 "cells": [
  {
   "cell_type": "code",
   "execution_count": 1,
   "metadata": {
    "collapsed": false
   },
   "outputs": [],
   "source": [
    "%matplotlib inline\n",
    "import copy\n",
    "import pandas as pd\n",
    "import numpy as np\n",
    "import pandas as pd\n",
    "import matplotlib.pyplot as plt\n",
    "\n",
    "from GridWorld import Task\n",
    "from Agents import TaskSetAgent, IndependentClusterAgent"
   ]
  },
  {
   "cell_type": "code",
   "execution_count": 2,
   "metadata": {
    "collapsed": true
   },
   "outputs": [],
   "source": [
    "# define all of the task parameters here\n",
    "gridworld_size = (6, 6)\n",
    "\n",
    "map_0 = {0: u'left', 1: u'up', 2: u'down', 3: u'right'}\n",
    "map_1 = {4: u'up', 5: u'left', 6: u'right', 7: u'down'}\n",
    "\n",
    "goal_0 = (0, 0)\n",
    "goal_1 = (0, 5)\n",
    "goal_2 = (5, 0)\n",
    "goal_3 = (5, 5)\n",
    "\n",
    "start_locations = [(2, 2), (2, 3), (3, 2), (3, 3)]\n",
    "\n",
    "context_goals = [goal_0, goal_1, goal_2, goal_3, goal_0, goal_3]\n",
    "context_maps = [map_0, map_0, map_0, map_0, map_1, map_1]\n",
    "context_balance = [2, 2, 6, 6, 4, 4]\n",
    "\n",
    "hazard_rates = [0.5, 0.67, 0.75, 0.75, 1.0, 1.0, 1.0, 1.0, 1.0, 1.0, 1.0, 1.0]\n",
    "\n",
    "list_goal_priors = [(0, 0), (0, 5), (5, 0), (5, 5)]"
   ]
  },
  {
   "cell_type": "code",
   "execution_count": null,
   "metadata": {
    "collapsed": true
   },
   "outputs": [],
   "source": []
  }
 ],
 "metadata": {
  "kernelspec": {
   "display_name": "Python 2",
   "language": "python",
   "name": "python2"
  },
  "language_info": {
   "codemirror_mode": {
    "name": "ipython",
    "version": 2
   },
   "file_extension": ".py",
   "mimetype": "text/x-python",
   "name": "python",
   "nbconvert_exporter": "python",
   "pygments_lexer": "ipython2",
   "version": "2.7.11"
  }
 },
 "nbformat": 4,
 "nbformat_minor": 0
}
