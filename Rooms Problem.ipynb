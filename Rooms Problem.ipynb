{
 "cells": [
  {
   "cell_type": "code",
   "execution_count": 1,
   "metadata": {
    "collapsed": false
   },
   "outputs": [],
   "source": [
    "%matplotlib inline\n",
    "import pandas as pd\n",
    "import matplotlib.pyplot as plt\n",
    "import seaborn as sns\n",
    "\n",
    "from model.rooms_problem import RoomsProblem\n",
    "from model.rooms_agents import IndependentClusterAgent, JointClusteringAgent, FlatAgent\n",
    "\n",
    "from tqdm import tqdm_notebook as tqdm"
   ]
  },
  {
   "cell_type": "code",
   "execution_count": 2,
   "metadata": {
    "collapsed": false
   },
   "outputs": [],
   "source": [
    "import numpy as np\n",
    "# this is the context: goal function thing, \n",
    "sucessor_function = {\n",
    "    0: {\"A\": 1, \"B\": 0, \"C\": 0},\n",
    "    1: {\"A\": 2, \"B\": 0, \"C\": 0},\n",
    "    2: {\"A\": 3, \"B\": 0, \"C\": 0},\n",
    "    3: {\"A\": 4, \"B\": 0, \"C\": 0},\n",
    "    4: {\"A\": 5, \"B\": 0, \"C\": 0},\n",
    "    5: {\"A\": None, \"B\": 0, \"C\": 0}, # signifies the end!\n",
    "}\n",
    "\n",
    "reward_function = {\n",
    "    0: {\"A\": 1, \"B\": 0, \"C\": 0},\n",
    "    1: {\"A\": 1, \"B\": 0, \"C\": 0},\n",
    "    2: {\"A\": 1, \"B\": 0, \"C\": 0},\n",
    "    3: {\"A\": 1, \"B\": 0, \"C\": 0},\n",
    "    4: {\"A\": 1, \"B\": 0, \"C\": 0},\n",
    "    5: {\"A\": 1, \"B\": 0, \"C\": 0},\n",
    "}\n",
    "\n",
    "mappings = {\n",
    "    0: {0: u'left', 1: u'up', 2: u'down', 3: u'right'},\n",
    "    1: {4: u'up', 5: u'left', 6: u'right', 7: u'down'},\n",
    "    2: {1: u'left', 0: u'up', 3: u'right', 2: u'down'},\n",
    "    3: {5: u'up', 4: u'left', 7: u'down', 6: u'right'},\n",
    "}\n",
    "\n",
    "room_mappings = {\n",
    "    0: mappings[0],\n",
    "    1: mappings[0],\n",
    "    2: mappings[1],\n",
    "    3: mappings[1],\n",
    "    4: mappings[2],\n",
    "    5: mappings[2],\n",
    "}\n",
    "\n",
    "grid_world_size = (6, 6)\n",
    "\n",
    "# make it easy, have the door and start locations be the same for each room\n",
    "start_location = {r: (0,0) for r in range(9)}\n",
    "\n",
    "# make it easy, each door is in the same spot\n",
    "door_locations = {r: {'A':(5, 5), 'B':(5, 0), 'C':(0, 5)} for r in range(9)}"
   ]
  },
  {
   "cell_type": "code",
   "execution_count": 4,
   "metadata": {
    "collapsed": false
   },
   "outputs": [
    {
     "name": "stdout",
     "output_type": "stream",
     "text": [
      "\n"
     ]
    }
   ],
   "source": [
    "n_sims = 5\n",
    "\n",
    "generate_kwargs = {\n",
    "    'prunning_threshold': 10.0,\n",
    "    'evaluate': False,\n",
    "}\n",
    "\n",
    "alpha = 1.0\n",
    "inv_temp = 5.0\n",
    "\n",
    "\n",
    "rooms_args = list([room_mappings, sucessor_function, reward_function, start_location,\n",
    "                  door_locations])\n",
    "\n",
    "\n",
    "def sim_task(rooms_args, desc='Running Task'):\n",
    "\n",
    "    results = []\n",
    "    for ii in tqdm(range(n_sims), desc=desc):\n",
    "\n",
    "        rooms_kwargs = dict()\n",
    "        \n",
    "        task = RoomsProblem(*rooms_args, **rooms_kwargs)\n",
    "        agent = IndependentClusterAgent(task, alpha=alpha, inv_temp=inv_temp)\n",
    "        results_ic = agent.navigate_rooms(**generate_kwargs)\n",
    "        results_ic[u'Model'] = 'Independent'\n",
    "        results_ic['Iteration'] = [ii] * len(results_ic)\n",
    "\n",
    "        task = RoomsProblem(*rooms_args, **rooms_kwargs)\n",
    "        agent = JointClusteringAgent(task, alpha=alpha, inv_temp=inv_temp)\n",
    "        results_jc = agent.navigate_rooms(**generate_kwargs)\n",
    "        results_jc[u'Model'] = 'Joint'\n",
    "        results_jc['Iteration'] = [ii] * len(results_jc)\n",
    "\n",
    "        task = RoomsProblem(*rooms_args, **rooms_kwargs)\n",
    "        agent = FlatAgent(task, inv_temp=inv_temp)\n",
    "        results_fl = agent.navigate_rooms(**generate_kwargs)\n",
    "        results_fl[u'Model'] = 'Flat'\n",
    "        results_fl['Iteration'] = [ii] * len(results_fl)\n",
    "\n",
    "        results.append(results_ic)\n",
    "        results.append(results_jc)\n",
    "        results.append(results_fl)\n",
    "    return pd.concat(results)\n",
    "\n",
    "\n",
    "results = sim_task(rooms_args)"
   ]
  },
  {
   "cell_type": "code",
   "execution_count": 8,
   "metadata": {
    "collapsed": false
   },
   "outputs": [
    {
     "data": {
      "image/png": "[encoded data removed]",
      "text/plain": [
       "<matplotlib.figure.Figure at 0x10d5c4dd0>"
      ]
     },
     "metadata": {},
     "output_type": "display_data"
    }
   ],
   "source": [
    "sns.set_context('paper', font_scale=1.25)\n",
    "X0 = results[results['In Goal']].groupby(['Model', 'Iteration']).sum()\n",
    "from matplotlib import gridspec\n",
    "\n",
    "with sns.axes_style('ticks'):\n",
    "    cc = sns.color_palette('Dark2')\n",
    "    fig = plt.figure(figsize=(6, 3)) \n",
    "    gs = gridspec.GridSpec(1, 2, width_ratios=[2.0, 1]) \n",
    "    ax0 = plt.subplot(gs[0])\n",
    "    ax1 = plt.subplot(gs[1])\n",
    "\n",
    "    sns.distplot(X0.loc['Independent']['Steps Taken'], label='Ind.', ax=ax0, color=cc[1])\n",
    "    sns.distplot(X0.loc['Joint']['Steps Taken'], label='Joint', ax=ax0, color=cc[0])\n",
    "    sns.distplot(X0.loc['Flat']['Steps Taken'], label='Flat', ax=ax0, color=cc[2])\n",
    "    handles, labels = ax0.get_legend_handles_labels()\n",
    "    ax0.legend(handles, labels)\n",
    "    ax0.set_ylabel('Density')\n",
    "    ax0.set_xlabel('Cumulative Steps')\n",
    "    ax0.set_xticks(np.arange(0, 1501, 500))\n",
    "    \n",
    "    X1 = pd.DataFrame({\n",
    "        'Cumulative Steps Taken': np.concatenate([\n",
    "                X0.loc['Joint']['Steps Taken'].values,\n",
    "                X0.loc['Independent']['Steps Taken'].values,\n",
    "                X0.loc['Flat']['Steps Taken'].values, \n",
    "            ]),\n",
    "        'Model': ['Independent'] * n_sims + ['Joint'] * n_sims + ['Flat'] * n_sims,\n",
    "    })\n",
    "    sns.barplot(data=X1, x='Model', y='Cumulative Steps Taken', ax=ax1, \n",
    "                palette='Set2', estimator=np.mean)\n",
    "    ax1.set_ylabel('Cumulative Steps')\n",
    "    ax1.set_xticklabels(['Joint', 'Ind.', 'Flat'])\n",
    "    \n",
    "    sns.despine(offset=2)    \n",
    "    \n",
    "    plt.tight_layout()\n",
    "    plt.savefig('RoomsResults.png', dpi=300)"
   ]
  },
  {
   "cell_type": "code",
   "execution_count": 9,
   "metadata": {
    "collapsed": false
   },
   "outputs": [
    {
     "data": {
      "text/html": [
       "<div>\n",
       "<table border=\"1\" class=\"dataframe\">\n",
       "  <thead>\n",
       "    <tr style=\"text-align: right;\">\n",
       "      <th></th>\n",
       "      <th>Cumulative Steps Taken</th>\n",
       "    </tr>\n",
       "    <tr>\n",
       "      <th>Model</th>\n",
       "      <th></th>\n",
       "    </tr>\n",
       "  </thead>\n",
       "  <tbody>\n",
       "    <tr>\n",
       "      <th>Flat</th>\n",
       "      <td>5.020619</td>\n",
       "    </tr>\n",
       "    <tr>\n",
       "      <th>Independent</th>\n",
       "      <td>2.232532</td>\n",
       "    </tr>\n",
       "    <tr>\n",
       "      <th>Joint</th>\n",
       "      <td>1.000000</td>\n",
       "    </tr>\n",
       "  </tbody>\n",
       "</table>\n",
       "</div>"
      ],
      "text/plain": [
       "             Cumulative Steps Taken\n",
       "Model                              \n",
       "Flat                       5.020619\n",
       "Independent                2.232532\n",
       "Joint                      1.000000"
      ]
     },
     "execution_count": 9,
     "metadata": {},
     "output_type": "execute_result"
    }
   ],
   "source": [
    "X1.groupby(\"Model\").mean() / np.min(X1.groupby(\"Model\").mean())"
   ]
  },
  {
   "cell_type": "code",
   "execution_count": null,
   "metadata": {
    "collapsed": true
   },
   "outputs": [],
   "source": []
  }
 ],
 "metadata": {
  "kernelspec": {
   "display_name": "Python 2",
   "language": "python",
   "name": "python2"
  },
  "language_info": {
   "codemirror_mode": {
    "name": "ipython",
    "version": 2
   },
   "file_extension": ".py",
   "mimetype": "text/x-python",
   "name": "python",
   "nbconvert_exporter": "python",
   "pygments_lexer": "ipython2",
   "version": "2.7.11"
  }
 },
 "nbformat": 4,
 "nbformat_minor": 0
}
