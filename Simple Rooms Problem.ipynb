{
 "cells": [
  {
   "cell_type": "code",
   "execution_count": 23,
   "metadata": {
    "collapsed": false
   },
   "outputs": [],
   "source": [
    "%matplotlib inline\n",
    "import numpy as np\n",
    "import matplotlib.pyplot as plt\n",
    "import seaborn as sns\n",
    "from scipy.stats import ranksums\n",
    "from tqdm import tqdm_notebook\n",
    "\n",
    "from model import SimpleFlat, SimpleIndependent, SimpleJoint\n",
    "\n",
    "sns.set_context('talk')"
   ]
  },
  {
   "cell_type": "code",
   "execution_count": 36,
   "metadata": {
    "collapsed": false
   },
   "outputs": [],
   "source": [
    "gamma = 0.80\n",
    "n_rooms = 10\n",
    "n_doors = 3\n",
    "sucessor_function = np.zeros((n_rooms, n_doors), dtype=int)\n",
    "true_transition_clusters = [0, 1, 2, 3, 4] * (n_rooms/5)\n",
    "# true_transition_clusters = [0, 1] * (n_rooms/2)\n",
    "\n",
    "\n",
    "# door \"0\" goes to the next room for for rooms 0-(n-1), \n",
    "#  and the for the last room, this door goes to itself\n",
    "# door \"1\" always goes to room 1\n",
    "# door \"2\" always goes to room 1\n",
    "\n",
    "\n",
    "for d in range(n_rooms - 1):\n",
    "    sucessor_function[d, 0] = d+1\n",
    "sucessor_function[n_rooms-1, 0] = n_rooms-1\n",
    "\n",
    "for d in range(n_rooms):\n",
    "    sucessor_function[d, 1] = 0\n",
    "    sucessor_function[d, 2] = 0\n",
    "\n",
    "reward_function = np.zeros((n_rooms, n_doors))\n",
    "reward_function[:, 1] = -1.0\n",
    "reward_function[:, 2] = -1.0\n",
    "reward_function[0:n_rooms-1, 0] = 0\n",
    "reward_function[n_rooms-1, 0] = 1.0\n",
    "\n",
    "r_set = set(np.ndarray.flatten(reward_function))"
   ]
  },
  {
   "cell_type": "code",
   "execution_count": 37,
   "metadata": {
    "collapsed": false
   },
   "outputs": [],
   "source": [
    "class simple_indepedent(object):\n",
    "    def __init__(self, beta, alpha, n_doors=3):\n",
    "\n",
    "        # initialize the rewards such that each cluster has a prior corresponding to  \n",
    "        # 1e-5 of an event for each possible reward value for each door\n",
    "        self.r_events = []\n",
    "        self.beta = beta\n",
    "        self.alpha = float(alpha)\n",
    "        self.visited_rooms = set()\n",
    "        self.cluster_probabilities = dict()\n",
    "        \n",
    "        self.n_doors = n_doors\n",
    "        \n",
    "    def pick_door(self, room):\n",
    "        \n",
    "        # if this is a new room, generate its prior over the clusters\n",
    "        if room not in self.visited_rooms:\n",
    "            self.visited_rooms.add(room) \n",
    "            \n",
    "            N = len(self.visited_rooms) - 1 # total number of rooms visited\n",
    "            \n",
    "            # count the cluster assignments\n",
    "            cluster_counts = np.zeros(N, dtype=int)\n",
    "            for room0, pmf in self.cluster_probabilities.iteritems():\n",
    "                cluster_counts[np.argmax(pmf)] += 1\n",
    "\n",
    "                # while we're here, augment the size of the previously seen PMFs \n",
    "                # p(room) = cluster with to be the correct shape\n",
    "                self.cluster_probabilities[room0] = np.concatenate([pmf, np.zeros(1)])\n",
    "\n",
    "            # initialize the prior probability p(new room) = cluster with the CRP\n",
    "            pmf = np.zeros(N + 1)\n",
    "            for k, N_k in enumerate(cluster_counts):\n",
    "                pmf[k] = N_k / (alpha + N)\n",
    "            pmf[N] = alpha / (alpha + N)\n",
    "            # this is the prior for the new room only!\n",
    "            self.cluster_probabilities[room] = pmf \n",
    "            \n",
    "            # initialize new q functions for the new (potential) cluster\n",
    "            self.r_events += [{door: {r:1e-5 for r in r_set} for door in range(n_doors)}]\n",
    "\n",
    "\n",
    "        # ~~~~~ choose the maximum a posteriori context assignment ~~~~~\n",
    "        k_max = np.argmax(self.cluster_probabilities[room])\n",
    "        \n",
    "        # ~~~~~ have the model pick the goal ~~~~~\n",
    "        q = np.zeros(self.n_doors)\n",
    "        for door in range(n_doors):\n",
    "            # get the E[V] of the door! \n",
    "            n = np.sum(self.r_events[k_max][door].values())\n",
    "            for r0, n_r0 in self.r_events[k_max][door].iteritems():\n",
    "                q[door] += r0 * n_r0 / n\n",
    "            \n",
    "        pmf = softmax_to_pdf(q, self.beta)\n",
    "        return sample_cmf(pmf.cumsum())\n",
    "                             \n",
    "    def update(self, room, door, r):\n",
    "        # note! the assumption is that the room will always be in the set of \n",
    "        # visited rooms, because that update happens when the agent selects an action\n",
    "        \n",
    "        prior = self.cluster_probabilities[room]\n",
    "        posterior = np.zeros(np.shape(prior)) # initialize\n",
    "        for k, pr_k in enumerate(prior):\n",
    "            \n",
    "            # Have to regenerate the probability of reward conditional on cluster k\n",
    "            n = np.sum(self.r_events[k][door].values())\n",
    "            n_r = self.r_events[k][door][r]\n",
    "            pr_r = n_r / n\n",
    "            \n",
    "            # update the posterior\n",
    "            posterior[k] = pr_r * pr_k\n",
    "            \n",
    "        posterior /= posterior.sum()  # normalize\n",
    "        self.cluster_probabilities[door] = posterior\n",
    "        \n",
    "        k_max = np.argmax(self.cluster_probabilities)\n",
    "        \n",
    "        # update the statics on the MAP cluster only\n",
    "        self.r_events[k_max][door][r] += 1.0\n",
    "        "
   ]
  },
  {
   "cell_type": "code",
   "execution_count": 38,
   "metadata": {
    "collapsed": false
   },
   "outputs": [
    {
     "name": "stdout",
     "output_type": "stream",
     "text": []
    }
   ],
   "source": [
    "inverse_temp = 10.0\n",
    "alpha = 1.0\n",
    "\n",
    "n_sim = 500\n",
    "\n",
    "def run_rooms(agent_class, params, desc, n_sim=1000):\n",
    "    steps_to_goal = [None] * n_sim\n",
    "    for ii in tqdm_notebook(range(n_sim), desc=desc, leave=False):\n",
    "\n",
    "        current_room = 0\n",
    "        t = 0\n",
    "\n",
    "        agent = agent_class(*params)\n",
    "        while True:\n",
    "            door = agent.pick_door(current_room)\n",
    "            r = reward_function[current_room, door]\n",
    "            new_room = sucessor_function[current_room, door]\n",
    "\n",
    "            agent.update(current_room, door, r)\n",
    "\n",
    "            current_room = new_room\n",
    "            t += 1\n",
    "            if r == 1:\n",
    "                break\n",
    "        steps_to_goal[ii] = t \n",
    "    return steps_to_goal\n",
    "\n",
    "flat_params = [inverse_temp, n_doors]\n",
    "joint_params = [inverse_temp, alpha, true_transition_clusters, n_doors]\n",
    "indep_params = [inverse_temp, alpha, n_doors]\n",
    "\n",
    "steps_to_goal_flat = run_rooms(SimpleFlat, flat_params, 'Flat', n_sim)\n",
    "steps_to_goal_joint = run_rooms(SimpleJoint, joint_params, 'Joint', n_sim)\n",
    "steps_to_goal_indep = run_rooms(simple_indepedent, flat_params, 'Independent', n_sim)\n"
   ]
  },
  {
   "cell_type": "code",
   "execution_count": 39,
   "metadata": {
    "collapsed": false
   },
   "outputs": [
    {
     "data": {
      "image/png": "[encoded data removed]",
      "text/plain": [
       "<matplotlib.figure.Figure at 0x112118410>"
      ]
     },
     "metadata": {},
     "output_type": "display_data"
    }
   ],
   "source": [
    "steps_to_goal_flat.sort()\n",
    "steps_to_goal_joint.sort()\n",
    "steps_to_goal_indep.sort()\n",
    "\n",
    "y = np.arange(0, n_sim, dtype=float) / n_sim\n",
    "\n",
    "with sns.axes_style('ticks'):\n",
    "    plt.figure(figsize=(8, 5))\n",
    "    plt.plot(steps_to_goal_flat, y, label='Flat')\n",
    "    plt.plot(steps_to_goal_joint, y, label='Joint')\n",
    "    plt.plot(steps_to_goal_indep, y, label='Independent')\n",
    "    ax = plt.gca()\n",
    "    ax.set_ylabel('Cumulative Distribution')\n",
    "    ax.set_xlabel('Steps to Complete Problem')\n",
    "    plt.legend(loc='lower right')\n",
    "    sns.despine(offset=10)\n",
    "\n",
    "    "
   ]
  },
  {
   "cell_type": "code",
   "execution_count": 40,
   "metadata": {
    "collapsed": false
   },
   "outputs": [
    {
     "data": {
      "text/plain": [
       "<matplotlib.axes._subplots.AxesSubplot at 0x1124687d0>"
      ]
     },
     "execution_count": 40,
     "metadata": {},
     "output_type": "execute_result"
    },
    {
     "data": {
      "image/png": "[encoded data removed]",
      "text/plain": [
       "<matplotlib.figure.Figure at 0x112107e50>"
      ]
     },
     "metadata": {},
     "output_type": "display_data"
    }
   ],
   "source": [
    "import pandas as pd\n",
    "X = pd.DataFrame({\n",
    "        'Steps to Complete Problem': steps_to_goal + \\\n",
    "        steps_to_goal_joint + \\\n",
    "        steps_to_goal_ind,\n",
    "        'Model': \n",
    "        ['Flat Clustering'] * len(steps_to_goal) + \\\n",
    "        ['Joint Clustering'] * len(steps_to_goal_joint) + \\\n",
    "        ['Independent Clustering'] * len(steps_to_goal_ind)\n",
    "    })\n",
    "sns.barplot(data=X, x='Model', y='Steps to Complete Problem', estimator=np.median)"
   ]
  },
  {
   "cell_type": "code",
   "execution_count": null,
   "metadata": {
    "collapsed": true
   },
   "outputs": [],
   "source": []
  },
  {
   "cell_type": "code",
   "execution_count": null,
   "metadata": {
    "collapsed": true
   },
   "outputs": [],
   "source": []
  }
 ],
 "metadata": {
  "kernelspec": {
   "display_name": "Python 2",
   "language": "python",
   "name": "python2"
  },
  "language_info": {
   "codemirror_mode": {
    "name": "ipython",
    "version": 2
   },
   "file_extension": ".py",
   "mimetype": "text/x-python",
   "name": "python",
   "nbconvert_exporter": "python",
   "pygments_lexer": "ipython2",
   "version": "2.7.11"
  }
 },
 "nbformat": 4,
 "nbformat_minor": 0
}
